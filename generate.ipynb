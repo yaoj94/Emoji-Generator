{
 "cells": [
  {
   "cell_type": "code",
   "execution_count": 4,
   "metadata": {},
   "outputs": [],
   "source": [
    "import re\n",
    "import json\n",
    "from watson_developer_cloud import ToneAnalyzerV3\n",
    " \n",
    "def analyze_tone():\n",
    "    un = 'username'\n",
    "    pw = 'password'\n",
    "    v = '2017-09-21'\n",
    "    data = input(\"Enter some text to be converted:\\n\")\n",
    "    if len(data) < 1:\n",
    "        return 'Empty'\n",
    "    try:\n",
    "        analyze = ToneAnalyzerV3(username = un, password = pw, version = v)\n",
    "        result = json.dumps(analyze.tone(data, 'text/plain'))\n",
    "        return result\n",
    "    except:\n",
    "        return 'Failed'\n",
    "    \n",
    "def get_data(text): #return a hashmap of tones and scores\n",
    "    score_index = [m.start() for m in re.finditer('score', text)]\n",
    "    tone_index = [m.start() for m in re.finditer('tone_id', text)]\n",
    "    scores = []\n",
    "    tones = []\n",
    "    for i in score_index:\n",
    "        scores.append(text[i+8:i+16])\n",
    "    for i in tone_index:\n",
    "        j = text.find('\"', i+11)\n",
    "        tones.append(text[i+11:j])\n",
    "    data = dict(zip(tones, scores))\n",
    "    return data\n",
    "\n",
    "def emojize(values): #takes in list of tuples\n",
    "    #for emotions in values:\n",
    "    return u'\\U0001F601'\n",
    "    \n",
    "def main():\n",
    "    data = analyze_tone()\n",
    "    if data == 'Empty':\n",
    "        print('Nothing to convert.')\n",
    "        exit\n",
    "    elif data == 'Failed':\n",
    "        print('We\\'re having technical difficulties...')\n",
    "        exit\n",
    "    else:\n",
    "        print(emojize(get_data(data)))\n",
    "    #print(get_data(data))"
   ]
  },
  {
   "cell_type": "code",
   "execution_count": 5,
   "metadata": {},
   "outputs": [
    {
     "name": "stdout",
     "output_type": "stream",
     "text": [
      "Enter some text to be converted:\n",
      "help me\n",
      "We're having technical difficulties...\n"
     ]
    }
   ],
   "source": [
    "main()"
   ]
  },
  {
   "cell_type": "code",
   "execution_count": null,
   "metadata": {},
   "outputs": [],
   "source": []
  }
 ],
 "metadata": {
  "kernelspec": {
   "display_name": "Python 3",
   "language": "python",
   "name": "python3"
  },
  "language_info": {
   "codemirror_mode": {
    "name": "ipython",
    "version": 3
   },
   "file_extension": ".py",
   "mimetype": "text/x-python",
   "name": "python",
   "nbconvert_exporter": "python",
   "pygments_lexer": "ipython3",
   "version": "3.6.3"
  }
 },
 "nbformat": 4,
 "nbformat_minor": 2
}
